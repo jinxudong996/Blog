{
 "cells": [
  {
   "cell_type": "code",
   "execution_count": 3,
   "metadata": {},
   "outputs": [
    {
     "name": "stdout",
     "output_type": "stream",
     "text": [
      "Could not fetch URL https://pypi.org/simple/langchain-openai/: There was a problem confirming the ssl certificate: HTTPSConnectionPool(host='pypi.org', port=443): Max retries exceeded with url: /simple/langchain-openai/ (Caused by SSLError(SSLEOFError(8, 'EOF occurred in violation of protocol (_ssl.c:1129)'))) - skipping\n",
      "Note: you may need to restart the kernel to use updated packages.\n"
     ]
    },
    {
     "name": "stderr",
     "output_type": "stream",
     "text": [
      "WARNING: Retrying (Retry(total=4, connect=None, read=None, redirect=None, status=None)) after connection broken by 'SSLError(SSLEOFError(8, 'EOF occurred in violation of protocol (_ssl.c:1129)'))': /simple/langchain-openai/\n",
      "WARNING: Retrying (Retry(total=3, connect=None, read=None, redirect=None, status=None)) after connection broken by 'SSLError(SSLEOFError(8, 'EOF occurred in violation of protocol (_ssl.c:1129)'))': /simple/langchain-openai/\n",
      "WARNING: Retrying (Retry(total=2, connect=None, read=None, redirect=None, status=None)) after connection broken by 'SSLError(SSLEOFError(8, 'EOF occurred in violation of protocol (_ssl.c:1129)'))': /simple/langchain-openai/\n",
      "WARNING: Retrying (Retry(total=1, connect=None, read=None, redirect=None, status=None)) after connection broken by 'SSLError(SSLEOFError(8, 'EOF occurred in violation of protocol (_ssl.c:1129)'))': /simple/langchain-openai/\n",
      "WARNING: Retrying (Retry(total=0, connect=None, read=None, redirect=None, status=None)) after connection broken by 'SSLError(SSLEOFError(8, 'EOF occurred in violation of protocol (_ssl.c:1129)'))': /simple/langchain-openai/\n",
      "ERROR: Could not find a version that satisfies the requirement langchain-openai (from versions: none)\n",
      "ERROR: No matching distribution found for langchain-openai\n"
     ]
    }
   ],
   "source": [
    "pip install langchain-openai"
   ]
  },
  {
   "cell_type": "code",
   "execution_count": 5,
   "metadata": {},
   "outputs": [
    {
     "name": "stdout",
     "output_type": "stream",
     "text": [
      "Requirement already satisfied: langserve[all] in c:\\users\\thomas东\\appdata\\local\\programs\\python\\python39\\lib\\site-packages (0.1.1)\n",
      "Requirement already satisfied: httpx>=0.23.0 in c:\\users\\thomas东\\appdata\\local\\programs\\python\\python39\\lib\\site-packages (from langserve[all]) (0.27.0)\n",
      "Requirement already satisfied: langchain-core<0.2.0,>=0.1.0 in c:\\users\\thomas东\\appdata\\local\\programs\\python\\python39\\lib\\site-packages (from langserve[all]) (0.1.52)\n",
      "Requirement already satisfied: orjson>=2 in c:\\users\\thomas东\\appdata\\local\\programs\\python\\python39\\lib\\site-packages (from langserve[all]) (3.10.3)\n",
      "Requirement already satisfied: pydantic>=1 in c:\\users\\thomas东\\appdata\\local\\programs\\python\\python39\\lib\\site-packages (from langserve[all]) (1.10.15)\n",
      "Requirement already satisfied: fastapi<1,>=0.90.1 in c:\\users\\thomas东\\appdata\\local\\programs\\python\\python39\\lib\\site-packages (from langserve[all]) (0.111.0)\n",
      "Requirement already satisfied: sse-starlette<2.0.0,>=1.3.0 in c:\\users\\thomas东\\appdata\\local\\programs\\python\\python39\\lib\\site-packages (from langserve[all]) (1.8.2)\n",
      "Requirement already satisfied: starlette<0.38.0,>=0.37.2 in c:\\users\\thomas东\\appdata\\local\\programs\\python\\python39\\lib\\site-packages (from fastapi<1,>=0.90.1->langserve[all]) (0.37.2)\n",
      "Requirement already satisfied: typing-extensions>=4.8.0 in c:\\users\\thomas东\\appdata\\roaming\\python\\python39\\site-packages (from fastapi<1,>=0.90.1->langserve[all]) (4.11.0)\n",
      "Requirement already satisfied: fastapi-cli>=0.0.2 in c:\\users\\thomas东\\appdata\\local\\programs\\python\\python39\\lib\\site-packages (from fastapi<1,>=0.90.1->langserve[all]) (0.0.3)\n",
      "Requirement already satisfied: jinja2>=2.11.2 in c:\\users\\thomas东\\appdata\\local\\programs\\python\\python39\\lib\\site-packages (from fastapi<1,>=0.90.1->langserve[all]) (3.1.2)\n",
      "Requirement already satisfied: python-multipart>=0.0.7 in c:\\users\\thomas东\\appdata\\local\\programs\\python\\python39\\lib\\site-packages (from fastapi<1,>=0.90.1->langserve[all]) (0.0.9)\n",
      "Requirement already satisfied: ujson!=4.0.2,!=4.1.0,!=4.2.0,!=4.3.0,!=5.0.0,!=5.1.0,>=4.0.1 in c:\\users\\thomas东\\appdata\\local\\programs\\python\\python39\\lib\\site-packages (from fastapi<1,>=0.90.1->langserve[all]) (5.9.0)\n",
      "Requirement already satisfied: email_validator>=2.0.0 in c:\\users\\thomas东\\appdata\\local\\programs\\python\\python39\\lib\\site-packages (from fastapi<1,>=0.90.1->langserve[all]) (2.1.1)\n",
      "Requirement already satisfied: uvicorn>=0.12.0 in c:\\users\\thomas东\\appdata\\local\\programs\\python\\python39\\lib\\site-packages (from uvicorn[standard]>=0.12.0->fastapi<1,>=0.90.1->langserve[all]) (0.29.0)\n",
      "Requirement already satisfied: anyio in c:\\users\\thomas东\\appdata\\local\\programs\\python\\python39\\lib\\site-packages (from httpx>=0.23.0->langserve[all]) (4.3.0)\n",
      "Requirement already satisfied: certifi in c:\\users\\thomas东\\appdata\\local\\programs\\python\\python39\\lib\\site-packages (from httpx>=0.23.0->langserve[all]) (2022.6.15)\n",
      "Requirement already satisfied: httpcore==1.* in c:\\users\\thomas东\\appdata\\local\\programs\\python\\python39\\lib\\site-packages (from httpx>=0.23.0->langserve[all]) (1.0.5)\n",
      "Requirement already satisfied: idna in c:\\users\\thomas东\\appdata\\local\\programs\\python\\python39\\lib\\site-packages (from httpx>=0.23.0->langserve[all]) (3.3)\n",
      "Requirement already satisfied: sniffio in c:\\users\\thomas东\\appdata\\local\\programs\\python\\python39\\lib\\site-packages (from httpx>=0.23.0->langserve[all]) (1.3.0)\n",
      "Requirement already satisfied: h11<0.15,>=0.13 in c:\\users\\thomas东\\appdata\\local\\programs\\python\\python39\\lib\\site-packages (from httpcore==1.*->httpx>=0.23.0->langserve[all]) (0.13.0)\n",
      "Requirement already satisfied: PyYAML>=5.3 in c:\\users\\thomas东\\appdata\\local\\programs\\python\\python39\\lib\\site-packages (from langchain-core<0.2.0,>=0.1.0->langserve[all]) (6.0.1)\n",
      "Requirement already satisfied: jsonpatch<2.0,>=1.33 in c:\\users\\thomas东\\appdata\\local\\programs\\python\\python39\\lib\\site-packages (from langchain-core<0.2.0,>=0.1.0->langserve[all]) (1.33)\n",
      "Could not fetch URL https://pypi.org/simple/langsmith/: There was a problem confirming the ssl certificate: HTTPSConnectionPool(host='pypi.org', port=443): Max retries exceeded with url: /simple/langsmith/ (Caused by SSLError(SSLEOFError(8, 'EOF occurred in violation of protocol (_ssl.c:1129)'))) - skipping\n",
      "INFO: pip is looking at multiple versions of langchain-core to determine which version is compatible with other requirements. This could take a while.\n",
      "Could not fetch URL https://pypi.org/simple/langchain-core/: There was a problem confirming the ssl certificate: HTTPSConnectionPool(host='pypi.org', port=443): Max retries exceeded with url: /simple/langchain-core/ (Caused by SSLError(SSLEOFError(8, 'EOF occurred in violation of protocol (_ssl.c:1129)'))) - skipping\n",
      "Could not fetch URL https://pypi.org/simple/langserve/: There was a problem confirming the ssl certificate: HTTPSConnectionPool(host='pypi.org', port=443): Max retries exceeded with url: /simple/langserve/ (Caused by SSLError(SSLEOFError(8, 'EOF occurred in violation of protocol (_ssl.c:1129)'))) - skipping\n",
      "Note: you may need to restart the kernel to use updated packages.\n"
     ]
    },
    {
     "name": "stderr",
     "output_type": "stream",
     "text": [
      "WARNING: Retrying (Retry(total=4, connect=None, read=None, redirect=None, status=None)) after connection broken by 'SSLError(SSLEOFError(8, 'EOF occurred in violation of protocol (_ssl.c:1129)'))': /simple/langsmith/\n",
      "WARNING: Retrying (Retry(total=3, connect=None, read=None, redirect=None, status=None)) after connection broken by 'SSLError(SSLEOFError(8, 'EOF occurred in violation of protocol (_ssl.c:1129)'))': /simple/langsmith/\n",
      "WARNING: Retrying (Retry(total=2, connect=None, read=None, redirect=None, status=None)) after connection broken by 'SSLError(SSLEOFError(8, 'EOF occurred in violation of protocol (_ssl.c:1129)'))': /simple/langsmith/\n",
      "WARNING: Retrying (Retry(total=1, connect=None, read=None, redirect=None, status=None)) after connection broken by 'SSLError(SSLEOFError(8, 'EOF occurred in violation of protocol (_ssl.c:1129)'))': /simple/langsmith/\n",
      "WARNING: Retrying (Retry(total=0, connect=None, read=None, redirect=None, status=None)) after connection broken by 'SSLError(SSLEOFError(8, 'EOF occurred in violation of protocol (_ssl.c:1129)'))': /simple/langsmith/\n",
      "WARNING: Retrying (Retry(total=4, connect=None, read=None, redirect=None, status=None)) after connection broken by 'SSLError(SSLEOFError(8, 'EOF occurred in violation of protocol (_ssl.c:1129)'))': /simple/langchain-core/\n",
      "WARNING: Retrying (Retry(total=3, connect=None, read=None, redirect=None, status=None)) after connection broken by 'SSLError(SSLEOFError(8, 'EOF occurred in violation of protocol (_ssl.c:1129)'))': /simple/langchain-core/\n",
      "WARNING: Retrying (Retry(total=2, connect=None, read=None, redirect=None, status=None)) after connection broken by 'SSLError(SSLEOFError(8, 'EOF occurred in violation of protocol (_ssl.c:1129)'))': /simple/langchain-core/\n",
      "WARNING: Retrying (Retry(total=1, connect=None, read=None, redirect=None, status=None)) after connection broken by 'SSLError(SSLEOFError(8, 'EOF occurred in violation of protocol (_ssl.c:1129)'))': /simple/langchain-core/\n",
      "WARNING: Retrying (Retry(total=0, connect=None, read=None, redirect=None, status=None)) after connection broken by 'SSLError(SSLEOFError(8, 'EOF occurred in violation of protocol (_ssl.c:1129)'))': /simple/langchain-core/\n",
      "WARNING: Retrying (Retry(total=4, connect=None, read=None, redirect=None, status=None)) after connection broken by 'SSLError(SSLEOFError(8, 'EOF occurred in violation of protocol (_ssl.c:1129)'))': /simple/langserve/\n",
      "WARNING: Retrying (Retry(total=3, connect=None, read=None, redirect=None, status=None)) after connection broken by 'SSLError(SSLEOFError(8, 'EOF occurred in violation of protocol (_ssl.c:1129)'))': /simple/langserve/\n",
      "WARNING: Retrying (Retry(total=2, connect=None, read=None, redirect=None, status=None)) after connection broken by 'SSLError(SSLEOFError(8, 'EOF occurred in violation of protocol (_ssl.c:1129)'))': /simple/langserve/\n",
      "WARNING: Retrying (Retry(total=1, connect=None, read=None, redirect=None, status=None)) after connection broken by 'SSLError(SSLEOFError(8, 'EOF occurred in violation of protocol (_ssl.c:1129)'))': /simple/langserve/\n",
      "WARNING: Retrying (Retry(total=0, connect=None, read=None, redirect=None, status=None)) after connection broken by 'SSLError(SSLEOFError(8, 'EOF occurred in violation of protocol (_ssl.c:1129)'))': /simple/langserve/\n",
      "ERROR: Could not find a version that satisfies the requirement langsmith<0.2.0,>=0.1.0 (from langchain-core) (from versions: none)\n",
      "ERROR: No matching distribution found for langsmith<0.2.0,>=0.1.0\n"
     ]
    }
   ],
   "source": [
    "pip install \"langserve[all]\""
   ]
  },
  {
   "cell_type": "code",
   "execution_count": null,
   "metadata": {},
   "outputs": [],
   "source": [
    "import os\n",
    "from langchain_openai import OpenAI\n",
    "from fastapi import FastAPI\n",
    "from langserve import add_routes\n",
    "\n",
    "os.environ[\"OPENAI_KEY\"] = \"sk-I23bFbiP6pUIX4Fo2934BfAb93814745883eB82a5f994bD1\"\n",
    "os.environ[\"OPENAI_API_BASE\"] = \"https://ai-yyds.com/v1\"\n",
    "\n",
    "# os.environ['OPENAI_API_KEY'] = '你的openai key'\n",
    "# os.environ['OPENAI_API_BASE'] = '你的代理url'\n",
    "llm = OpenAI()\n",
    "app = FastAPI(\n",
    "  title=\"LangChain Server\",\n",
    "  version=\"1.0\",\n",
    "  description=\"A simple API server using LangChain's Runnable interfaces\",\n",
    ")\n",
    "# 3. Adding chain route\n",
    "add_routes(\n",
    "    app,\n",
    "    llm,\n",
    "    path=\"/first_llm\",\n",
    ")\n",
    "if __name__ == \"__main__\":\n",
    "    import uvicorn\n",
    "    uvicorn.run(app, host=\"localhost\", port=8000)"
   ]
  }
 ],
 "metadata": {
  "kernelspec": {
   "display_name": "Python 3",
   "language": "python",
   "name": "python3"
  },
  "language_info": {
   "codemirror_mode": {
    "name": "ipython",
    "version": 3
   },
   "file_extension": ".py",
   "mimetype": "text/x-python",
   "name": "python",
   "nbconvert_exporter": "python",
   "pygments_lexer": "ipython3",
   "version": "3.9.5"
  }
 },
 "nbformat": 4,
 "nbformat_minor": 2
}
