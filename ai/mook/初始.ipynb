{
 "cells": [
  {
   "cell_type": "code",
   "execution_count": 8,
   "metadata": {},
   "outputs": [
    {
     "name": "stdout",
     "output_type": "stream",
     "text": [
      "Collecting openai==v0.28.1\n",
      "  Downloading openai-0.28.1-py3-none-any.whl.metadata (11 kB)\n",
      "Collecting requests>=2.20 (from openai==v0.28.1)\n",
      "  Downloading requests-2.32.3-py3-none-any.whl.metadata (4.6 kB)\n",
      "Requirement already satisfied: tqdm in c:\\users\\thomas东\\appdata\\local\\programs\\python\\python312\\lib\\site-packages (from openai==v0.28.1) (4.67.1)\n",
      "Collecting aiohttp (from openai==v0.28.1)\n",
      "  Downloading aiohttp-3.11.11-cp312-cp312-win_amd64.whl.metadata (8.0 kB)\n",
      "Collecting charset-normalizer<4,>=2 (from requests>=2.20->openai==v0.28.1)\n",
      "  Downloading charset_normalizer-3.4.1-cp312-cp312-win_amd64.whl.metadata (36 kB)\n",
      "Requirement already satisfied: idna<4,>=2.5 in c:\\users\\thomas东\\appdata\\local\\programs\\python\\python312\\lib\\site-packages (from requests>=2.20->openai==v0.28.1) (3.10)\n",
      "Collecting urllib3<3,>=1.21.1 (from requests>=2.20->openai==v0.28.1)\n",
      "  Downloading urllib3-2.3.0-py3-none-any.whl.metadata (6.5 kB)\n",
      "Requirement already satisfied: certifi>=2017.4.17 in c:\\users\\thomas东\\appdata\\local\\programs\\python\\python312\\lib\\site-packages (from requests>=2.20->openai==v0.28.1) (2024.12.14)\n",
      "Collecting aiohappyeyeballs>=2.3.0 (from aiohttp->openai==v0.28.1)\n",
      "  Downloading aiohappyeyeballs-2.4.4-py3-none-any.whl.metadata (6.1 kB)\n",
      "Collecting aiosignal>=1.1.2 (from aiohttp->openai==v0.28.1)\n",
      "  Downloading aiosignal-1.3.2-py2.py3-none-any.whl.metadata (3.8 kB)\n",
      "Collecting attrs>=17.3.0 (from aiohttp->openai==v0.28.1)\n",
      "  Downloading attrs-24.3.0-py3-none-any.whl.metadata (11 kB)\n",
      "Collecting frozenlist>=1.1.1 (from aiohttp->openai==v0.28.1)\n",
      "  Downloading frozenlist-1.5.0-cp312-cp312-win_amd64.whl.metadata (14 kB)\n",
      "Collecting multidict<7.0,>=4.5 (from aiohttp->openai==v0.28.1)\n",
      "  Downloading multidict-6.1.0-cp312-cp312-win_amd64.whl.metadata (5.1 kB)\n",
      "Collecting propcache>=0.2.0 (from aiohttp->openai==v0.28.1)\n",
      "  Downloading propcache-0.2.1-cp312-cp312-win_amd64.whl.metadata (9.5 kB)\n",
      "Collecting yarl<2.0,>=1.17.0 (from aiohttp->openai==v0.28.1)\n",
      "  Downloading yarl-1.18.3-cp312-cp312-win_amd64.whl.metadata (71 kB)\n",
      "     ---------------------------------------- 0.0/71.4 kB ? eta -:--:--\n",
      "     ---------------------------------------- 0.0/71.4 kB ? eta -:--:--\n",
      "     ---------------------------------------- 0.0/71.4 kB ? eta -:--:--\n",
      "     ---------------------------------------- 0.0/71.4 kB ? eta -:--:--\n",
      "     ----- ---------------------------------- 10.2/71.4 kB ? eta -:--:--\n",
      "     ----- ---------------------------------- 10.2/71.4 kB ? eta -:--:--\n",
      "     ----- ---------------------------------- 10.2/71.4 kB ? eta -:--:--\n",
      "     ---------------- --------------------- 30.7/71.4 kB 186.2 kB/s eta 0:00:01\n",
      "     --------------------- ---------------- 41.0/71.4 kB 163.4 kB/s eta 0:00:01\n",
      "     --------------------- ---------------- 41.0/71.4 kB 163.4 kB/s eta 0:00:01\n",
      "     -------------------------------- ----- 61.4/71.4 kB 181.6 kB/s eta 0:00:01\n",
      "     -------------------------------------- 71.4/71.4 kB 206.1 kB/s eta 0:00:00\n",
      "Requirement already satisfied: colorama in c:\\users\\thomas东\\appdata\\roaming\\python\\python312\\site-packages (from tqdm->openai==v0.28.1) (0.4.6)\n",
      "Downloading openai-0.28.1-py3-none-any.whl (76 kB)\n",
      "   ---------------------------------------- 0.0/77.0 kB ? eta -:--:--\n",
      "   ---------------------------------------- 0.0/77.0 kB ? eta -:--:--\n",
      "   ---------------------------------------- 0.0/77.0 kB ? eta -:--:--\n",
      "   ----- ---------------------------------- 10.2/77.0 kB ? eta -:--:--\n",
      "   ----- ---------------------------------- 10.2/77.0 kB ? eta -:--:--\n",
      "   --------------- ------------------------ 30.7/77.0 kB 220.2 kB/s eta 0:00:01\n",
      "   --------------------- ------------------ 41.0/77.0 kB 219.4 kB/s eta 0:00:01\n",
      "   ------------------------------------- -- 71.7/77.0 kB 302.7 kB/s eta 0:00:01\n",
      "   ---------------------------------------- 77.0/77.0 kB 328.6 kB/s eta 0:00:00\n",
      "Downloading requests-2.32.3-py3-none-any.whl (64 kB)\n",
      "   ---------------------------------------- 0.0/64.9 kB ? eta -:--:--\n",
      "   ---------------------------------------- 0.0/64.9 kB ? eta -:--:--\n",
      "   ------ --------------------------------- 10.2/64.9 kB ? eta -:--:--\n",
      "   ------------------ --------------------- 30.7/64.9 kB 660.6 kB/s eta 0:00:01\n",
      "   ------------------ --------------------- 30.7/64.9 kB 660.6 kB/s eta 0:00:01\n",
      "   ---------------------------------------- 64.9/64.9 kB 350.6 kB/s eta 0:00:00\n",
      "Downloading aiohttp-3.11.11-cp312-cp312-win_amd64.whl (437 kB)\n",
      "   ---------------------------------------- 0.0/437.7 kB ? eta -:--:--\n",
      "    --------------------------------------- 10.2/437.7 kB ? eta -:--:--\n",
      "    --------------------------------------- 10.2/437.7 kB ? eta -:--:--\n",
      "    --------------------------------------- 10.2/437.7 kB ? eta -:--:--\n",
      "   -- ------------------------------------ 30.7/437.7 kB 187.9 kB/s eta 0:00:03\n",
      "   -- ------------------------------------ 30.7/437.7 kB 187.9 kB/s eta 0:00:03\n",
      "   ----- --------------------------------- 61.4/437.7 kB 218.8 kB/s eta 0:00:02\n",
      "   ------- ------------------------------- 81.9/437.7 kB 255.1 kB/s eta 0:00:02\n",
      "   -------- ------------------------------ 92.2/437.7 kB 261.7 kB/s eta 0:00:02\n",
      "   --------- ---------------------------- 112.6/437.7 kB 285.2 kB/s eta 0:00:02\n",
      "   ---------- --------------------------- 122.9/437.7 kB 266.9 kB/s eta 0:00:02\n",
      "   ------------ ------------------------- 143.4/437.7 kB 283.8 kB/s eta 0:00:02\n",
      "   -------------- ----------------------- 163.8/437.7 kB 297.7 kB/s eta 0:00:01\n",
      "   --------------- ---------------------- 174.1/437.7 kB 308.5 kB/s eta 0:00:01\n",
      "   ----------------- -------------------- 204.8/437.7 kB 319.5 kB/s eta 0:00:01\n",
      "   ------------------- ------------------ 225.3/437.7 kB 335.5 kB/s eta 0:00:01\n",
      "   --------------------- ---------------- 245.8/437.7 kB 342.3 kB/s eta 0:00:01\n",
      "   ----------------------- -------------- 266.2/437.7 kB 348.8 kB/s eta 0:00:01\n",
      "   ------------------------ ------------- 286.7/437.7 kB 346.9 kB/s eta 0:00:01\n",
      "   ------------------------- ------------ 297.0/437.7 kB 339.7 kB/s eta 0:00:01\n",
      "   ------------------------- ------------ 297.0/437.7 kB 339.7 kB/s eta 0:00:01\n",
      "   ------------------------- ------------ 297.0/437.7 kB 339.7 kB/s eta 0:00:01\n",
      "   ------------------------- ------------ 297.0/437.7 kB 339.7 kB/s eta 0:00:01\n",
      "   ------------------------------ ------- 348.2/437.7 kB 327.8 kB/s eta 0:00:01\n",
      "   -------------------------------- ----- 368.6/437.7 kB 332.5 kB/s eta 0:00:01\n",
      "   -------------------------------- ----- 378.9/437.7 kB 332.4 kB/s eta 0:00:01\n",
      "   ---------------------------------- --- 399.4/437.7 kB 336.6 kB/s eta 0:00:01\n",
      "   ----------------------------------- -- 409.6/437.7 kB 327.6 kB/s eta 0:00:01\n",
      "   -------------------------------------- 437.7/437.7 kB 337.6 kB/s eta 0:00:00\n",
      "Downloading aiohappyeyeballs-2.4.4-py3-none-any.whl (14 kB)\n",
      "Downloading aiosignal-1.3.2-py2.py3-none-any.whl (7.6 kB)\n",
      "Downloading attrs-24.3.0-py3-none-any.whl (63 kB)\n",
      "   ---------------------------------------- 0.0/63.4 kB ? eta -:--:--\n",
      "   ---------------------------------------- 0.0/63.4 kB ? eta -:--:--\n",
      "   ------ --------------------------------- 10.2/63.4 kB ? eta -:--:--\n",
      "   ------ --------------------------------- 10.2/63.4 kB ? eta -:--:--\n",
      "   ------ --------------------------------- 10.2/63.4 kB ? eta -:--:--\n",
      "   -------------------------------------- - 61.4/63.4 kB 328.2 kB/s eta 0:00:01\n",
      "   ---------------------------------------- 63.4/63.4 kB 310.9 kB/s eta 0:00:00\n",
      "Downloading charset_normalizer-3.4.1-cp312-cp312-win_amd64.whl (102 kB)\n",
      "   ---------------------------------------- 0.0/102.8 kB ? eta -:--:--\n",
      "   --- ------------------------------------ 10.2/102.8 kB ? eta -:--:--\n",
      "   --------------- ----------------------- 41.0/102.8 kB 388.9 kB/s eta 0:00:01\n",
      "   ----------------------- --------------- 61.4/102.8 kB 465.5 kB/s eta 0:00:01\n",
      "   --------------------------- ----------- 71.7/102.8 kB 435.7 kB/s eta 0:00:01\n",
      "   -------------------------------------- 102.8/102.8 kB 492.3 kB/s eta 0:00:00\n",
      "Downloading frozenlist-1.5.0-cp312-cp312-win_amd64.whl (51 kB)\n",
      "   ---------------------------------------- 0.0/51.3 kB ? eta -:--:--\n",
      "   ------- -------------------------------- 10.2/51.3 kB ? eta -:--:--\n",
      "   ----------------------- ---------------- 30.7/51.3 kB 660.6 kB/s eta 0:00:01\n",
      "   ---------------------------------------- 51.3/51.3 kB 526.8 kB/s eta 0:00:00\n",
      "Downloading multidict-6.1.0-cp312-cp312-win_amd64.whl (28 kB)\n",
      "Downloading propcache-0.2.1-cp312-cp312-win_amd64.whl (44 kB)\n",
      "   ---------------------------------------- 0.0/44.1 kB ? eta -:--:--\n",
      "   ---------------------------------------- 0.0/44.1 kB ? eta -:--:--\n",
      "   --------- ------------------------------ 10.2/44.1 kB ? eta -:--:--\n",
      "   ------------------------------------- -- 41.0/44.1 kB 330.3 kB/s eta 0:00:01\n",
      "   ---------------------------------------- 44.1/44.1 kB 310.8 kB/s eta 0:00:00\n",
      "Downloading urllib3-2.3.0-py3-none-any.whl (128 kB)\n",
      "   ---------------------------------------- 0.0/128.4 kB ? eta -:--:--\n",
      "   --- ------------------------------------ 10.2/128.4 kB ? eta -:--:--\n",
      "   --------- ----------------------------- 30.7/128.4 kB 262.6 kB/s eta 0:00:01\n",
      "   ------------ -------------------------- 41.0/128.4 kB 279.3 kB/s eta 0:00:01\n",
      "   ------------------ -------------------- 61.4/128.4 kB 363.1 kB/s eta 0:00:01\n",
      "   --------------------------- ----------- 92.2/128.4 kB 348.6 kB/s eta 0:00:01\n",
      "   ------------------------------------ - 122.9/128.4 kB 400.9 kB/s eta 0:00:01\n",
      "   -------------------------------------- 128.4/128.4 kB 420.4 kB/s eta 0:00:00\n",
      "Downloading yarl-1.18.3-cp312-cp312-win_amd64.whl (90 kB)\n",
      "   ---------------------------------------- 0.0/90.4 kB ? eta -:--:--\n",
      "   ---- ----------------------------------- 10.2/90.4 kB ? eta -:--:--\n",
      "   ------------- -------------------------- 30.7/90.4 kB 660.6 kB/s eta 0:00:01\n",
      "   ------------------ --------------------- 41.0/90.4 kB 393.8 kB/s eta 0:00:01\n",
      "   --------------------------- ------------ 61.4/90.4 kB 365.7 kB/s eta 0:00:01\n",
      "   --------------------------- ------------ 61.4/90.4 kB 365.7 kB/s eta 0:00:01\n",
      "   ---------------------------------------- 90.4/90.4 kB 342.6 kB/s eta 0:00:00\n",
      "Installing collected packages: urllib3, propcache, multidict, frozenlist, charset-normalizer, attrs, aiohappyeyeballs, yarl, requests, aiosignal, aiohttp, openai\n",
      "  Attempting uninstall: openai\n",
      "    Found existing installation: openai 1.58.1\n",
      "    Uninstalling openai-1.58.1:\n",
      "      Successfully uninstalled openai-1.58.1\n",
      "Successfully installed aiohappyeyeballs-2.4.4 aiohttp-3.11.11 aiosignal-1.3.2 attrs-24.3.0 charset-normalizer-3.4.1 frozenlist-1.5.0 multidict-6.1.0 openai-0.28.1 propcache-0.2.1 requests-2.32.3 urllib3-2.3.0 yarl-1.18.3\n",
      "Note: you may need to restart the kernel to use updated packages.\n"
     ]
    },
    {
     "name": "stderr",
     "output_type": "stream",
     "text": [
      "  WARNING: The script normalizer.exe is installed in 'c:\\Users\\Thomas东\\AppData\\Local\\Programs\\Python\\Python312\\Scripts' which is not on PATH.\n",
      "  Consider adding this directory to PATH or, if you prefer to suppress this warning, use --no-warn-script-location.\n",
      "  WARNING: The script openai.exe is installed in 'c:\\Users\\Thomas东\\AppData\\Local\\Programs\\Python\\Python312\\Scripts' which is not on PATH.\n",
      "  Consider adding this directory to PATH or, if you prefer to suppress this warning, use --no-warn-script-location.\n",
      "\n",
      "[notice] A new release of pip is available: 24.0 -> 24.3.1\n",
      "[notice] To update, run: python.exe -m pip install --upgrade pip\n"
     ]
    }
   ],
   "source": [
    "pip install openai==v0.28.1"
   ]
  },
  {
   "cell_type": "code",
   "execution_count": 14,
   "metadata": {},
   "outputs": [
    {
     "name": "stdout",
     "output_type": "stream",
     "text": [
      "Collecting langchain==0.0.279\n",
      "  Downloading langchain-0.0.279-py3-none-any.whl.metadata (14 kB)\n",
      "Collecting PyYAML>=5.3 (from langchain==0.0.279)\n",
      "  Downloading PyYAML-6.0.2-cp312-cp312-win_amd64.whl.metadata (2.1 kB)\n",
      "Collecting SQLAlchemy<3,>=1.4 (from langchain==0.0.279)\n",
      "  Downloading SQLAlchemy-2.0.36-cp312-cp312-win_amd64.whl.metadata (9.9 kB)\n",
      "Requirement already satisfied: aiohttp<4.0.0,>=3.8.3 in c:\\users\\thomas东\\appdata\\local\\programs\\python\\python312\\lib\\site-packages (from langchain==0.0.279) (3.11.11)\n",
      "Collecting dataclasses-json<0.6.0,>=0.5.7 (from langchain==0.0.279)\n",
      "  Downloading dataclasses_json-0.5.14-py3-none-any.whl.metadata (22 kB)\n",
      "Collecting langsmith<0.1.0,>=0.0.21 (from langchain==0.0.279)\n",
      "  Downloading langsmith-0.0.92-py3-none-any.whl.metadata (9.9 kB)\n",
      "Collecting numexpr<3.0.0,>=2.8.4 (from langchain==0.0.279)\n",
      "  Downloading numexpr-2.10.2-cp312-cp312-win_amd64.whl.metadata (8.3 kB)\n",
      "Collecting numpy<2,>=1 (from langchain==0.0.279)\n",
      "  Downloading numpy-1.26.4-cp312-cp312-win_amd64.whl.metadata (61 kB)\n",
      "     ---------------------------------------- 0.0/61.0 kB ? eta -:--:--\n",
      "     --------------------------------- ------ 51.2/61.0 kB 2.6 MB/s eta 0:00:01\n",
      "     ---------------------------------------- 61.0/61.0 kB 1.6 MB/s eta 0:00:00\n",
      "Requirement already satisfied: pydantic<3,>=1 in c:\\users\\thomas东\\appdata\\local\\programs\\python\\python312\\lib\\site-packages (from langchain==0.0.279) (2.10.4)\n",
      "Requirement already satisfied: requests<3,>=2 in c:\\users\\thomas东\\appdata\\local\\programs\\python\\python312\\lib\\site-packages (from langchain==0.0.279) (2.32.3)\n",
      "Collecting tenacity<9.0.0,>=8.1.0 (from langchain==0.0.279)\n",
      "  Downloading tenacity-8.5.0-py3-none-any.whl.metadata (1.2 kB)\n",
      "Requirement already satisfied: aiohappyeyeballs>=2.3.0 in c:\\users\\thomas东\\appdata\\local\\programs\\python\\python312\\lib\\site-packages (from aiohttp<4.0.0,>=3.8.3->langchain==0.0.279) (2.4.4)\n",
      "Requirement already satisfied: aiosignal>=1.1.2 in c:\\users\\thomas东\\appdata\\local\\programs\\python\\python312\\lib\\site-packages (from aiohttp<4.0.0,>=3.8.3->langchain==0.0.279) (1.3.2)\n",
      "Requirement already satisfied: attrs>=17.3.0 in c:\\users\\thomas东\\appdata\\local\\programs\\python\\python312\\lib\\site-packages (from aiohttp<4.0.0,>=3.8.3->langchain==0.0.279) (24.3.0)\n",
      "Requirement already satisfied: frozenlist>=1.1.1 in c:\\users\\thomas东\\appdata\\local\\programs\\python\\python312\\lib\\site-packages (from aiohttp<4.0.0,>=3.8.3->langchain==0.0.279) (1.5.0)\n",
      "Requirement already satisfied: multidict<7.0,>=4.5 in c:\\users\\thomas东\\appdata\\local\\programs\\python\\python312\\lib\\site-packages (from aiohttp<4.0.0,>=3.8.3->langchain==0.0.279) (6.1.0)\n",
      "Requirement already satisfied: propcache>=0.2.0 in c:\\users\\thomas东\\appdata\\local\\programs\\python\\python312\\lib\\site-packages (from aiohttp<4.0.0,>=3.8.3->langchain==0.0.279) (0.2.1)\n",
      "Requirement already satisfied: yarl<2.0,>=1.17.0 in c:\\users\\thomas东\\appdata\\local\\programs\\python\\python312\\lib\\site-packages (from aiohttp<4.0.0,>=3.8.3->langchain==0.0.279) (1.18.3)\n",
      "Collecting marshmallow<4.0.0,>=3.18.0 (from dataclasses-json<0.6.0,>=0.5.7->langchain==0.0.279)\n",
      "  Downloading marshmallow-3.23.2-py3-none-any.whl.metadata (7.1 kB)\n",
      "Collecting typing-inspect<1,>=0.4.0 (from dataclasses-json<0.6.0,>=0.5.7->langchain==0.0.279)\n",
      "  Downloading typing_inspect-0.9.0-py3-none-any.whl.metadata (1.5 kB)\n",
      "Requirement already satisfied: annotated-types>=0.6.0 in c:\\users\\thomas东\\appdata\\local\\programs\\python\\python312\\lib\\site-packages (from pydantic<3,>=1->langchain==0.0.279) (0.7.0)\n",
      "Requirement already satisfied: pydantic-core==2.27.2 in c:\\users\\thomas东\\appdata\\local\\programs\\python\\python312\\lib\\site-packages (from pydantic<3,>=1->langchain==0.0.279) (2.27.2)\n",
      "Requirement already satisfied: typing-extensions>=4.12.2 in c:\\users\\thomas东\\appdata\\local\\programs\\python\\python312\\lib\\site-packages (from pydantic<3,>=1->langchain==0.0.279) (4.12.2)\n",
      "Requirement already satisfied: charset-normalizer<4,>=2 in c:\\users\\thomas东\\appdata\\local\\programs\\python\\python312\\lib\\site-packages (from requests<3,>=2->langchain==0.0.279) (3.4.1)\n",
      "Requirement already satisfied: idna<4,>=2.5 in c:\\users\\thomas东\\appdata\\local\\programs\\python\\python312\\lib\\site-packages (from requests<3,>=2->langchain==0.0.279) (3.10)\n",
      "Requirement already satisfied: urllib3<3,>=1.21.1 in c:\\users\\thomas东\\appdata\\local\\programs\\python\\python312\\lib\\site-packages (from requests<3,>=2->langchain==0.0.279) (2.3.0)\n",
      "Requirement already satisfied: certifi>=2017.4.17 in c:\\users\\thomas东\\appdata\\local\\programs\\python\\python312\\lib\\site-packages (from requests<3,>=2->langchain==0.0.279) (2024.12.14)\n",
      "Collecting greenlet!=0.4.17 (from SQLAlchemy<3,>=1.4->langchain==0.0.279)\n",
      "  Downloading greenlet-3.1.1-cp312-cp312-win_amd64.whl.metadata (3.9 kB)\n",
      "Requirement already satisfied: packaging>=17.0 in c:\\users\\thomas东\\appdata\\roaming\\python\\python312\\site-packages (from marshmallow<4.0.0,>=3.18.0->dataclasses-json<0.6.0,>=0.5.7->langchain==0.0.279) (24.2)\n",
      "Collecting mypy-extensions>=0.3.0 (from typing-inspect<1,>=0.4.0->dataclasses-json<0.6.0,>=0.5.7->langchain==0.0.279)\n",
      "  Downloading mypy_extensions-1.0.0-py3-none-any.whl.metadata (1.1 kB)\n",
      "Downloading langchain-0.0.279-py3-none-any.whl (1.6 MB)\n",
      "   ---------------------------------------- 0.0/1.6 MB ? eta -:--:--\n",
      "   ---- ----------------------------------- 0.2/1.6 MB 9.6 MB/s eta 0:00:01\n",
      "   --------- ------------------------------ 0.4/1.6 MB 6.0 MB/s eta 0:00:01\n",
      "   ----------------- ---------------------- 0.7/1.6 MB 5.7 MB/s eta 0:00:01\n",
      "   --------------------------- ------------ 1.1/1.6 MB 6.5 MB/s eta 0:00:01\n",
      "   ---------------------------------------  1.6/1.6 MB 7.4 MB/s eta 0:00:01\n",
      "   ---------------------------------------- 1.6/1.6 MB 7.4 MB/s eta 0:00:00\n",
      "Downloading dataclasses_json-0.5.14-py3-none-any.whl (26 kB)\n",
      "Downloading langsmith-0.0.92-py3-none-any.whl (56 kB)\n",
      "   ---------------------------------------- 0.0/56.5 kB ? eta -:--:--\n",
      "   ---------------------------------------- 56.5/56.5 kB 3.1 MB/s eta 0:00:00\n",
      "Downloading numexpr-2.10.2-cp312-cp312-win_amd64.whl (145 kB)\n",
      "   ---------------------------------------- 0.0/145.1 kB ? eta -:--:--\n",
      "   ---------------------------------------- 145.1/145.1 kB 4.3 MB/s eta 0:00:00\n",
      "Downloading numpy-1.26.4-cp312-cp312-win_amd64.whl (15.5 MB)\n",
      "   ---------------------------------------- 0.0/15.5 MB ? eta -:--:--\n",
      "   ---------------------------------------- 0.2/15.5 MB 3.7 MB/s eta 0:00:05\n",
      "   -- ------------------------------------- 0.8/15.5 MB 10.2 MB/s eta 0:00:02\n",
      "   --- ------------------------------------ 1.4/15.5 MB 10.7 MB/s eta 0:00:02\n",
      "   ---- ----------------------------------- 1.8/15.5 MB 10.5 MB/s eta 0:00:02\n",
      "   ------ --------------------------------- 2.6/15.5 MB 11.7 MB/s eta 0:00:02\n",
      "   ------- -------------------------------- 3.0/15.5 MB 11.4 MB/s eta 0:00:02\n",
      "   ---------- ----------------------------- 4.1/15.5 MB 12.9 MB/s eta 0:00:01\n",
      "   ------------ --------------------------- 4.7/15.5 MB 13.1 MB/s eta 0:00:01\n",
      "   ------------- -------------------------- 5.4/15.5 MB 13.3 MB/s eta 0:00:01\n",
      "   --------------- ------------------------ 5.9/15.5 MB 13.4 MB/s eta 0:00:01\n",
      "   ---------------- ----------------------- 6.3/15.5 MB 13.4 MB/s eta 0:00:01\n",
      "   ------------------- -------------------- 7.4/15.5 MB 13.5 MB/s eta 0:00:01\n",
      "   -------------------- ------------------- 8.0/15.5 MB 13.5 MB/s eta 0:00:01\n",
      "   ---------------------- ----------------- 8.8/15.5 MB 14.0 MB/s eta 0:00:01\n",
      "   ------------------------- -------------- 9.9/15.5 MB 14.3 MB/s eta 0:00:01\n",
      "   --------------------------- ------------ 10.7/15.5 MB 15.2 MB/s eta 0:00:01\n",
      "   ---------------------------- ----------- 11.1/15.5 MB 14.9 MB/s eta 0:00:01\n",
      "   ------------------------------- -------- 12.1/15.5 MB 15.6 MB/s eta 0:00:01\n",
      "   --------------------------------- ------ 13.0/15.5 MB 16.0 MB/s eta 0:00:01\n",
      "   ----------------------------------- ---- 13.9/15.5 MB 16.4 MB/s eta 0:00:01\n",
      "   -------------------------------------- - 14.8/15.5 MB 16.8 MB/s eta 0:00:01\n",
      "   ---------------------------------------  15.5/15.5 MB 17.3 MB/s eta 0:00:01\n",
      "   ---------------------------------------- 15.5/15.5 MB 15.6 MB/s eta 0:00:00\n",
      "Downloading PyYAML-6.0.2-cp312-cp312-win_amd64.whl (156 kB)\n",
      "   ---------------------------------------- 0.0/156.3 kB ? eta -:--:--\n",
      "   ---------------------------------------- 156.3/156.3 kB 4.7 MB/s eta 0:00:00\n",
      "Downloading SQLAlchemy-2.0.36-cp312-cp312-win_amd64.whl (2.1 MB)\n",
      "   ---------------------------------------- 0.0/2.1 MB ? eta -:--:--\n",
      "   -------- ------------------------------- 0.4/2.1 MB 8.7 MB/s eta 0:00:01\n",
      "   --------------------- ------------------ 1.1/2.1 MB 11.9 MB/s eta 0:00:01\n",
      "   ---------------------------------------  2.1/2.1 MB 16.5 MB/s eta 0:00:01\n",
      "   ---------------------------------------- 2.1/2.1 MB 13.2 MB/s eta 0:00:00\n",
      "Downloading tenacity-8.5.0-py3-none-any.whl (28 kB)\n",
      "Downloading greenlet-3.1.1-cp312-cp312-win_amd64.whl (299 kB)\n",
      "   ---------------------------------------- 0.0/299.7 kB ? eta -:--:--\n",
      "   ---------------------------------------  297.0/299.7 kB 9.2 MB/s eta 0:00:01\n",
      "   ---------------------------------------- 299.7/299.7 kB 9.3 MB/s eta 0:00:00\n",
      "Downloading marshmallow-3.23.2-py3-none-any.whl (49 kB)\n",
      "   ---------------------------------------- 0.0/49.3 kB ? eta -:--:--\n",
      "   ---------------------------------------- 49.3/49.3 kB 2.4 MB/s eta 0:00:00\n",
      "Downloading typing_inspect-0.9.0-py3-none-any.whl (8.8 kB)\n",
      "Downloading mypy_extensions-1.0.0-py3-none-any.whl (4.7 kB)\n",
      "Installing collected packages: tenacity, PyYAML, numpy, mypy-extensions, marshmallow, greenlet, typing-inspect, SQLAlchemy, numexpr, langsmith, dataclasses-json, langchain\n",
      "Successfully installed PyYAML-6.0.2 SQLAlchemy-2.0.36 dataclasses-json-0.5.14 greenlet-3.1.1 langchain-0.0.279 langsmith-0.0.92 marshmallow-3.23.2 mypy-extensions-1.0.0 numexpr-2.10.2 numpy-1.26.4 tenacity-8.5.0 typing-inspect-0.9.0\n",
      "Note: you may need to restart the kernel to use updated packages.\n"
     ]
    },
    {
     "name": "stderr",
     "output_type": "stream",
     "text": [
      "  WARNING: The script f2py.exe is installed in 'c:\\Users\\Thomas东\\AppData\\Local\\Programs\\Python\\Python312\\Scripts' which is not on PATH.\n",
      "  Consider adding this directory to PATH or, if you prefer to suppress this warning, use --no-warn-script-location.\n",
      "  WARNING: The script langsmith.exe is installed in 'c:\\Users\\Thomas东\\AppData\\Local\\Programs\\Python\\Python312\\Scripts' which is not on PATH.\n",
      "  Consider adding this directory to PATH or, if you prefer to suppress this warning, use --no-warn-script-location.\n",
      "  WARNING: The script langchain-server.exe is installed in 'c:\\Users\\Thomas东\\AppData\\Local\\Programs\\Python\\Python312\\Scripts' which is not on PATH.\n",
      "  Consider adding this directory to PATH or, if you prefer to suppress this warning, use --no-warn-script-location.\n",
      "\n",
      "[notice] A new release of pip is available: 24.0 -> 24.3.1\n",
      "[notice] To update, run: python.exe -m pip install --upgrade pip\n"
     ]
    }
   ],
   "source": [
    "pip install langchain==0.0.279"
   ]
  },
  {
   "cell_type": "markdown",
   "metadata": {},
   "source": [
    "安装langchain"
   ]
  },
  {
   "cell_type": "code",
   "execution_count": 10,
   "metadata": {},
   "outputs": [],
   "source": [
    "import os\n",
    "os.environ[\"OPENAI_KEY\"] = \"sk-uK6mnTkdB4TT6EAODf1a24Da7a43456793B1C12a61D4D167\"\n",
    "os.environ[\"OPENAI_API_BASE\"] = \"https://ai-yyds.com/v1\""
   ]
  },
  {
   "cell_type": "code",
   "execution_count": 11,
   "metadata": {},
   "outputs": [
    {
     "name": "stdout",
     "output_type": "stream",
     "text": [
      "OPENAI_API_KEY: sk-uK6mnTkdB4TT6EAODf1a24Da7a43456793B1C12a61D4D167\n",
      "OPENAI_PROXY: https://ai-yyds.com/v1\n"
     ]
    }
   ],
   "source": [
    "import os\n",
    "openai_api_key = os.getenv(\"OPENAI_KEY\")\n",
    "openai_api_base = os.getenv(\"OPENAI_API_BASE\")\n",
    "print(\"OPENAI_API_KEY:\", openai_api_key)\n",
    "print(\"OPENAI_PROXY:\", openai_api_base)\n"
   ]
  },
  {
   "cell_type": "code",
   "execution_count": 19,
   "metadata": {},
   "outputs": [
    {
     "name": "stdout",
     "output_type": "stream",
     "text": [
      "好的，这里有一个简单的笑话：\n",
      "\n",
      "有一天，一只牛对另一只牛说：“嘿，你听说过那个新闻吗？所有奶牛都要被送上太空。”\n",
      "另一只牛答道：“天哪，这可真是太空前奶后的时代啊！”\n"
     ]
    }
   ],
   "source": [
    "import openai\n",
    "import os\n",
    "\n",
    "openai.api_key = os.getenv(\"OPENAI_KEY\")\n",
    "openai.api_base = os.getenv(\"OPENAI_API_BASE\")\n",
    "\n",
    "messages = [\n",
    "{\"role\": \"user\", \"content\": \"讲个笑话\"}\n",
    "]\n",
    "\n",
    "res = openai.ChatCompletion.create(\n",
    "model=\"gpt-4-1106-preview\",\n",
    "messages=messages,\n",
    "stream=False,\n",
    ")\n",
    "\n",
    "print(res['choices'][0]['message']['content'])"
   ]
  },
  {
   "cell_type": "code",
   "execution_count": 15,
   "metadata": {},
   "outputs": [
    {
     "data": {
      "text/plain": [
       "'\\n\\n我叫*（姓名），来自*（所在地），现在就读于*（学校/专业）。我是一个*（个性/爱好/特点）的人，喜欢*（喜欢做的事情/爱好/特别喜欢的东西）。我对*（某个领域/兴趣）有浓厚的兴趣和热情，平时会利用空余时间来深入学习和探究。同时，我也积极参加各种活动，拓展自己的视野和经历。我相信不断学习和积累是成长的关键，所以我会努力不断提升自己。通过这次机会，我希望能够结识更多有趣的人，一起学习、交流，共同进步。谢谢！'"
      ]
     },
     "execution_count": 15,
     "metadata": {},
     "output_type": "execute_result"
    }
   ],
   "source": [
    "from langchain.llms import OpenAI\n",
    "import os\n",
    "# OPENAI_KEY\n",
    "api_base = os.getenv(\"OPENAI_API_BASE\")\n",
    "api_key = os.getenv(\"OPENAI_KEY\")\n",
    "llm = OpenAI(\n",
    "    model=\"gpt-3.5-turbo-instruct\",\n",
    "    temperature=0,\n",
    "    openai_api_key=api_key,\n",
    "    openai_api_base=api_base\n",
    "    )\n",
    "llm.predict(\"介绍下你自己\")"
   ]
  },
  {
   "cell_type": "code",
   "execution_count": 17,
   "metadata": {},
   "outputs": [
    {
     "name": "stdout",
     "output_type": "stream",
     "text": [
      "你是一个起名大师,请模仿示例起3个中国特色的名字,比如男孩经常被叫做狗蛋,女孩经常被叫做翠花\n"
     ]
    },
    {
     "data": {
      "text/plain": [
       "'\\n\\n男孩: 龙飞、宝宝、小明\\n女孩: 凤仪、玉兰、小红'"
      ]
     },
     "execution_count": 17,
     "metadata": {},
     "output_type": "execute_result"
    }
   ],
   "source": [
    "#起名大师\n",
    "from langchain.llms import OpenAI\n",
    "from langchain.prompts import PromptTemplate\n",
    "import os\n",
    "api_base = os.getenv(\"OPENAI_API_BASE\")\n",
    "api_key = os.getenv(\"OPENAI_KEY\")\n",
    "llm = OpenAI(\n",
    "    model=\"gpt-3.5-turbo-instruct\",\n",
    "    temperature=0,\n",
    "    openai_api_key=api_key,\n",
    "    openai_api_base=api_base\n",
    "    )\n",
    "prompt = PromptTemplate.from_template(\"你是一个起名大师,请模仿示例起3个{county}名字,比如男孩经常被叫做{boy},女孩经常被叫做{girl}\")\n",
    "message = prompt.format(county=\"中国特色的\",boy=\"狗蛋\",girl=\"翠花\")\n",
    "print(message)\n",
    "llm.predict(message)"
   ]
  },
  {
   "cell_type": "code",
   "execution_count": 18,
   "metadata": {},
   "outputs": [
    {
     "name": "stdout",
     "output_type": "stream",
     "text": [
      "你是一个起名大师,请模仿示例起3个具有美国男孩特色的名字,示例：男孩常用名sam,女孩常用名lucy。请返回以逗号分隔的列表形式。仅返回逗号分隔的列表，不要返回其他内容。\n",
      "\n",
      "\n",
      "男孩常用名：Mike,Chris,James\n"
     ]
    },
    {
     "data": {
      "text/plain": [
       "['男孩常用名：Mike', 'Chris', 'James']"
      ]
     },
     "execution_count": 18,
     "metadata": {},
     "output_type": "execute_result"
    }
   ],
   "source": [
    "#起名大师，输出格式为一个数组\n",
    "from langchain.llms import OpenAI\n",
    "from langchain.prompts import PromptTemplate\n",
    "import os\n",
    "from langchain.schema import BaseOutputParser\n",
    "\n",
    "#自定义类\n",
    "class CommaSeparatedListOutputParser(BaseOutputParser):\n",
    "    \"\"\"Parse the output of an LLM call to a comma-separated list.\"\"\"\n",
    "\n",
    "    def parse(self, text: str):\n",
    "        \"\"\"Parse the output of an LLM call.\"\"\"\n",
    "        print(text)\n",
    "        return text.strip().split(\",\")\n",
    "\n",
    "\n",
    "api_base = os.getenv(\"OPENAI_API_BASE\")\n",
    "api_key = os.getenv(\"OPENAI_KEY\")\n",
    "llm = OpenAI(\n",
    "    model=\"gpt-3.5-turbo-instruct\",\n",
    "    temperature=0,\n",
    "    openai_api_key=api_key,\n",
    "    openai_api_base=api_base\n",
    "    )\n",
    "prompt = PromptTemplate.from_template(\"你是一个起名大师,请模仿示例起3个具有{county}特色的名字,示例：男孩常用名{boy},女孩常用名{girl}。请返回以逗号分隔的列表形式。仅返回逗号分隔的列表，不要返回其他内容。\")\n",
    "message = prompt.format(county=\"美国男孩\",boy=\"sam\",girl=\"lucy\")\n",
    "print(message)\n",
    "strs = llm.predict(message)\n",
    "CommaSeparatedListOutputParser().parse(strs)"
   ]
  },
  {
   "cell_type": "code",
   "execution_count": 25,
   "metadata": {},
   "outputs": [
    {
     "name": "stdout",
     "output_type": "stream",
     "text": [
      "给出每个输入词的反义词\n",
      "\n",
      "原词：happy\n",
      "反义：sad\n",
      "\n",
      "原词：tall\n",
      "反义：short\n",
      "\n",
      "原词：sunny\n",
      "反义：gloomy\n",
      "\n",
      "原词：windy\n",
      "反义：calm\n",
      "\n",
      "原词：高兴\n",
      "反义：悲伤\n",
      "\n",
      "原词：big\n",
      "反义：\n"
     ]
    }
   ],
   "source": [
    "#根据输入的提示词长度综合计算最终长度，智能截取或者添加提示词的示例\n",
    "\n",
    "from langchain.prompts import PromptTemplate\n",
    "from langchain.prompts import FewShotPromptTemplate\n",
    "from langchain.prompts.example_selector import LengthBasedExampleSelector\n",
    "\n",
    "#假设已经有这么多的提示词示例组：\n",
    "examples = [\n",
    "    {\"input\":\"happy\",\"output\":\"sad\"},\n",
    "    {\"input\":\"tall\",\"output\":\"short\"},\n",
    "    {\"input\":\"sunny\",\"output\":\"gloomy\"},\n",
    "    {\"input\":\"windy\",\"output\":\"calm\"},\n",
    "    {\"input\":\"高兴\",\"output\":\"悲伤\"}\n",
    "]\n",
    "\n",
    "#构造提示词模板\n",
    "example_prompt = PromptTemplate(\n",
    "    input_variables=[\"input\",\"output\"],\n",
    "    template=\"原词：{input}\\n反义：{output}\"\n",
    ")\n",
    "\n",
    "#调用长度示例选择器\n",
    "example_selector = LengthBasedExampleSelector(\n",
    "    #传入提示词示例组\n",
    "    examples=examples,\n",
    "    #传入提示词模板\n",
    "    example_prompt=example_prompt,\n",
    "    #设置格式化后的提示词最大长度\n",
    "    max_length=200,\n",
    "    #内置的get_text_length,如果默认分词计算方式不满足，可以自己扩展\n",
    "    #get_text_length:Callable[[str],int] = lambda x:len(re.split(\"\\n| \",x))\n",
    ")\n",
    "\n",
    "#使用小样本提示词模版来实现动态示例的调用\n",
    "dynamic_prompt = FewShotPromptTemplate(\n",
    "    example_selector=example_selector,\n",
    "    example_prompt=example_prompt,\n",
    "    prefix=\"给出每个输入词的反义词\",\n",
    "    suffix=\"原词：{adjective}\\n反义：\",\n",
    "    input_variables=[\"adjective\"]\n",
    ")\n",
    "\n",
    "#小样本获得所有示例\n",
    "print(dynamic_prompt.format(adjective=\"big\"))"
   ]
  },
  {
   "cell_type": "code",
   "execution_count": 26,
   "metadata": {},
   "outputs": [
    {
     "name": "stdout",
     "output_type": "stream",
     "text": [
      "给出每个输入词的反义词\n",
      "\n",
      "原词：big and huge adn massive and large and gigantic and tall and much much much much much much bigger then everyone\n",
      "反义：\n"
     ]
    }
   ],
   "source": [
    "#如果输入长度很长，则最终输出会根据长度要求减少\n",
    "long_string = \"big and huge adn massive and large and gigantic and tall and much much much much much much bigger then everyone\"\n",
    "print(dynamic_prompt.format(adjective=long_string))"
   ]
  }
 ],
 "metadata": {
  "kernelspec": {
   "display_name": "Python 3",
   "language": "python",
   "name": "python3"
  },
  "language_info": {
   "codemirror_mode": {
    "name": "ipython",
    "version": 3
   },
   "file_extension": ".py",
   "mimetype": "text/x-python",
   "name": "python",
   "nbconvert_exporter": "python",
   "pygments_lexer": "ipython3",
   "version": "3.12.3"
  }
 },
 "nbformat": 4,
 "nbformat_minor": 2
}
